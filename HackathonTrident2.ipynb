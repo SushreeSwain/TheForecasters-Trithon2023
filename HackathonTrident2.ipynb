{
 "cells": [
  {
   "cell_type": "markdown",
   "metadata": {},
   "source": [
    "1.\tLand temperature\n",
    "2.\tOcean Temperature\n",
    "3.\tAir Pollution Levels\n",
    "4.\tAQI Index\n",
    "5.\tCO AQI Value\n",
    "6.\tN02 AQI Value\n",
    "7.\tOzone AQI Value\n",
    "\n",
    "If there is an industry in a particular city, say ABC, the collector or government officials collect reports on the industry every year. If the industry doesn’t satisfy the particular criteria, the government can ban or restrict the industry from operating in that location. So, the government and the industries can have this App or website and regularly check if they are performing well. \n",
    "\n",
    "AQI \n",
    "\n",
    "0 TO 50 IS GOOD\n",
    "\n",
    "51 TO 100 SATISFACTORY\n",
    "\n",
    "101 TO 200 MODERATE\n",
    "\n",
    "201 TO 300 POOR\n",
    "\n",
    "301 TO 400 TOO POOR\n",
    "\n",
    "401 TO 500 SEVERE\n",
    "\n",
    "\n",
    "This is accessible to everyone and even small brick factories and other small industries can download this app so that the climatic conditions are satisfied.\n"
   ]
  },
  {
   "cell_type": "code",
   "execution_count": 1,
   "metadata": {},
   "outputs": [
    {
     "data": {
      "text/html": [
       "        <script type=\"text/javascript\">\n",
       "        window.PlotlyConfig = {MathJaxConfig: 'local'};\n",
       "        if (window.MathJax && window.MathJax.Hub && window.MathJax.Hub.Config) {window.MathJax.Hub.Config({SVG: {font: \"STIX-Web\"}});}\n",
       "        if (typeof require !== 'undefined') {\n",
       "        require.undef(\"plotly\");\n",
       "        requirejs.config({\n",
       "            paths: {\n",
       "                'plotly': ['https://cdn.plot.ly/plotly-2.27.0.min']\n",
       "            }\n",
       "        });\n",
       "        require(['plotly'], function(Plotly) {\n",
       "            window._Plotly = Plotly;\n",
       "        });\n",
       "        }\n",
       "        </script>\n",
       "        "
      ]
     },
     "metadata": {},
     "output_type": "display_data"
    }
   ],
   "source": [
    "import numpy as np\n",
    "import pandas as pd\n",
    "import matplotlib.pyplot as plt\n",
    "%matplotlib inline\n",
    "import plotly.offline as py\n",
    "py.init_notebook_mode(connected=True)\n",
    "import plotly.graph_objs as go\n",
    "import plotly.tools as tls\n",
    "import seaborn as sns\n",
    "import time\n",
    "import warnings\n",
    "warnings.filterwarnings('ignore')\n",
    "\n",
    "df = pd.read_csv(r'c:\\Users\\Sushree S Swain\\Desktop\\combined_data.csv')"
   ]
  },
  {
   "cell_type": "code",
   "execution_count": 103,
   "metadata": {},
   "outputs": [],
   "source": [
    "df2 = pd.read_csv(r'c:\\Users\\Sushree S Swain\\Desktop\\global air pollution dataset.csv')"
   ]
  },
  {
   "cell_type": "code",
   "execution_count": 104,
   "metadata": {},
   "outputs": [
    {
     "data": {
      "text/html": [
       "<div>\n",
       "<style scoped>\n",
       "    .dataframe tbody tr th:only-of-type {\n",
       "        vertical-align: middle;\n",
       "    }\n",
       "\n",
       "    .dataframe tbody tr th {\n",
       "        vertical-align: top;\n",
       "    }\n",
       "\n",
       "    .dataframe thead th {\n",
       "        text-align: right;\n",
       "    }\n",
       "</style>\n",
       "<table border=\"1\" class=\"dataframe\">\n",
       "  <thead>\n",
       "    <tr style=\"text-align: right;\">\n",
       "      <th></th>\n",
       "      <th>Country</th>\n",
       "      <th>City</th>\n",
       "      <th>AQI Value</th>\n",
       "      <th>AQI Category</th>\n",
       "      <th>CO AQI Value</th>\n",
       "      <th>CO AQI Category</th>\n",
       "      <th>Ozone AQI Value</th>\n",
       "      <th>Ozone AQI Category</th>\n",
       "      <th>NO2 AQI Value</th>\n",
       "      <th>NO2 AQI Category</th>\n",
       "      <th>PM2.5 AQI Value</th>\n",
       "      <th>PM2.5 AQI Category</th>\n",
       "    </tr>\n",
       "  </thead>\n",
       "  <tbody>\n",
       "    <tr>\n",
       "      <th>0</th>\n",
       "      <td>Russian Federation</td>\n",
       "      <td>Praskoveya</td>\n",
       "      <td>51</td>\n",
       "      <td>Moderate</td>\n",
       "      <td>1</td>\n",
       "      <td>Good</td>\n",
       "      <td>36</td>\n",
       "      <td>Good</td>\n",
       "      <td>0</td>\n",
       "      <td>Good</td>\n",
       "      <td>51</td>\n",
       "      <td>Moderate</td>\n",
       "    </tr>\n",
       "    <tr>\n",
       "      <th>1</th>\n",
       "      <td>Brazil</td>\n",
       "      <td>Presidente Dutra</td>\n",
       "      <td>41</td>\n",
       "      <td>Good</td>\n",
       "      <td>1</td>\n",
       "      <td>Good</td>\n",
       "      <td>5</td>\n",
       "      <td>Good</td>\n",
       "      <td>1</td>\n",
       "      <td>Good</td>\n",
       "      <td>41</td>\n",
       "      <td>Good</td>\n",
       "    </tr>\n",
       "    <tr>\n",
       "      <th>2</th>\n",
       "      <td>Italy</td>\n",
       "      <td>Priolo Gargallo</td>\n",
       "      <td>66</td>\n",
       "      <td>Moderate</td>\n",
       "      <td>1</td>\n",
       "      <td>Good</td>\n",
       "      <td>39</td>\n",
       "      <td>Good</td>\n",
       "      <td>2</td>\n",
       "      <td>Good</td>\n",
       "      <td>66</td>\n",
       "      <td>Moderate</td>\n",
       "    </tr>\n",
       "    <tr>\n",
       "      <th>3</th>\n",
       "      <td>Poland</td>\n",
       "      <td>Przasnysz</td>\n",
       "      <td>34</td>\n",
       "      <td>Good</td>\n",
       "      <td>1</td>\n",
       "      <td>Good</td>\n",
       "      <td>34</td>\n",
       "      <td>Good</td>\n",
       "      <td>0</td>\n",
       "      <td>Good</td>\n",
       "      <td>20</td>\n",
       "      <td>Good</td>\n",
       "    </tr>\n",
       "    <tr>\n",
       "      <th>4</th>\n",
       "      <td>France</td>\n",
       "      <td>Punaauia</td>\n",
       "      <td>22</td>\n",
       "      <td>Good</td>\n",
       "      <td>0</td>\n",
       "      <td>Good</td>\n",
       "      <td>22</td>\n",
       "      <td>Good</td>\n",
       "      <td>0</td>\n",
       "      <td>Good</td>\n",
       "      <td>6</td>\n",
       "      <td>Good</td>\n",
       "    </tr>\n",
       "  </tbody>\n",
       "</table>\n",
       "</div>"
      ],
      "text/plain": [
       "              Country              City  AQI Value AQI Category  CO AQI Value   \n",
       "0  Russian Federation        Praskoveya         51     Moderate             1  \\\n",
       "1              Brazil  Presidente Dutra         41         Good             1   \n",
       "2               Italy   Priolo Gargallo         66     Moderate             1   \n",
       "3              Poland         Przasnysz         34         Good             1   \n",
       "4              France          Punaauia         22         Good             0   \n",
       "\n",
       "  CO AQI Category  Ozone AQI Value Ozone AQI Category  NO2 AQI Value   \n",
       "0            Good               36               Good              0  \\\n",
       "1            Good                5               Good              1   \n",
       "2            Good               39               Good              2   \n",
       "3            Good               34               Good              0   \n",
       "4            Good               22               Good              0   \n",
       "\n",
       "  NO2 AQI Category  PM2.5 AQI Value PM2.5 AQI Category  \n",
       "0             Good               51           Moderate  \n",
       "1             Good               41               Good  \n",
       "2             Good               66           Moderate  \n",
       "3             Good               20               Good  \n",
       "4             Good                6               Good  "
      ]
     },
     "execution_count": 104,
     "metadata": {},
     "output_type": "execute_result"
    }
   ],
   "source": [
    "df2.head()"
   ]
  },
  {
   "cell_type": "code",
   "execution_count": 108,
   "metadata": {},
   "outputs": [
    {
     "data": {
      "text/plain": [
       "Country      City                AQI Value  AQI Category    CO AQI Value  CO AQI Category  Ozone AQI Value  Ozone AQI Category              NO2 AQI Value  NO2 AQI Category  PM2.5 AQI Value  PM2.5 AQI Category\n",
       "Afghanistan  Acin                62         Moderate        0             Good             46               Good                            0              Good              62               Moderate              1\n",
       "Poland       Radzyn Podlaski     42         Good            1             Good             42               Good                            0              Good              28               Good                  1\n",
       "             Skawina             58         Moderate        1             Good             34               Good                            2              Good              58               Moderate              1\n",
       "             Skarzysko Kamienna  32         Good            1             Good             28               Good                            1              Good              32               Good                  1\n",
       "             Sierpc              34         Good            1             Good             34               Good                            0              Good              28               Good                  1\n",
       "                                                                                                                                                                                                                   ..\n",
       "India        Arani               61         Moderate        0             Good             26               Good                            0              Good              61               Moderate              1\n",
       "             Arang               155        Unhealthy       3             Good             38               Good                            3              Good              155              Unhealthy             1\n",
       "             Arambagh            170        Unhealthy       2             Good             82               Moderate                        2              Good              170              Unhealthy             1\n",
       "             Ara                 209        Very Unhealthy  2             Good             103              Unhealthy for Sensitive Groups  1              Good              209              Very Unhealthy        1\n",
       "Zimbabwe     Zvishavane          39         Good            1             Good             18               Good                            0              Good              39               Good                  1\n",
       "Name: count, Length: 23035, dtype: int64"
      ]
     },
     "execution_count": 108,
     "metadata": {},
     "output_type": "execute_result"
    }
   ],
   "source": [
    "df2.value_counts()"
   ]
  },
  {
   "cell_type": "code",
   "execution_count": 109,
   "metadata": {},
   "outputs": [
    {
     "data": {
      "text/plain": [
       "Country               427\n",
       "City                    1\n",
       "AQI Value               0\n",
       "AQI Category            0\n",
       "CO AQI Value            0\n",
       "CO AQI Category         0\n",
       "Ozone AQI Value         0\n",
       "Ozone AQI Category      0\n",
       "NO2 AQI Value           0\n",
       "NO2 AQI Category        0\n",
       "PM2.5 AQI Value         0\n",
       "PM2.5 AQI Category      0\n",
       "dtype: int64"
      ]
     },
     "execution_count": 109,
     "metadata": {},
     "output_type": "execute_result"
    }
   ],
   "source": [
    "df2.isnull().sum()"
   ]
  },
  {
   "cell_type": "code",
   "execution_count": 111,
   "metadata": {},
   "outputs": [
    {
     "data": {
      "text/plain": [
       "0    United States of America\n",
       "Name: Country, dtype: object"
      ]
     },
     "execution_count": 111,
     "metadata": {},
     "output_type": "execute_result"
    }
   ],
   "source": [
    "df2.Country.mode()"
   ]
  },
  {
   "cell_type": "code",
   "execution_count": 113,
   "metadata": {},
   "outputs": [],
   "source": [
    "df2['City'].fillna('Unknown', inplace = True)"
   ]
  },
  {
   "cell_type": "code",
   "execution_count": 114,
   "metadata": {},
   "outputs": [],
   "source": [
    "df2['Country'].fillna('Unknown', inplace=True)"
   ]
  },
  {
   "cell_type": "code",
   "execution_count": 116,
   "metadata": {},
   "outputs": [
    {
     "data": {
      "text/plain": [
       "Country               0\n",
       "City                  0\n",
       "AQI Value             0\n",
       "AQI Category          0\n",
       "CO AQI Value          0\n",
       "CO AQI Category       0\n",
       "Ozone AQI Value       0\n",
       "Ozone AQI Category    0\n",
       "NO2 AQI Value         0\n",
       "NO2 AQI Category      0\n",
       "PM2.5 AQI Value       0\n",
       "PM2.5 AQI Category    0\n",
       "dtype: int64"
      ]
     },
     "execution_count": 116,
     "metadata": {},
     "output_type": "execute_result"
    }
   ],
   "source": [
    "df2.isnull().sum()"
   ]
  },
  {
   "cell_type": "code",
   "execution_count": 117,
   "metadata": {},
   "outputs": [
    {
     "name": "stdout",
     "output_type": "stream",
     "text": [
      "<class 'pandas.core.frame.DataFrame'>\n",
      "RangeIndex: 23463 entries, 0 to 23462\n",
      "Data columns (total 12 columns):\n",
      " #   Column              Non-Null Count  Dtype \n",
      "---  ------              --------------  ----- \n",
      " 0   Country             23463 non-null  object\n",
      " 1   City                23463 non-null  object\n",
      " 2   AQI Value           23463 non-null  int64 \n",
      " 3   AQI Category        23463 non-null  object\n",
      " 4   CO AQI Value        23463 non-null  int64 \n",
      " 5   CO AQI Category     23463 non-null  object\n",
      " 6   Ozone AQI Value     23463 non-null  int64 \n",
      " 7   Ozone AQI Category  23463 non-null  object\n",
      " 8   NO2 AQI Value       23463 non-null  int64 \n",
      " 9   NO2 AQI Category    23463 non-null  object\n",
      " 10  PM2.5 AQI Value     23463 non-null  int64 \n",
      " 11  PM2.5 AQI Category  23463 non-null  object\n",
      "dtypes: int64(5), object(7)\n",
      "memory usage: 2.1+ MB\n"
     ]
    }
   ],
   "source": [
    "df2.info()"
   ]
  },
  {
   "cell_type": "code",
   "execution_count": 115,
   "metadata": {},
   "outputs": [
    {
     "data": {
      "text/html": [
       "<div>\n",
       "<style scoped>\n",
       "    .dataframe tbody tr th:only-of-type {\n",
       "        vertical-align: middle;\n",
       "    }\n",
       "\n",
       "    .dataframe tbody tr th {\n",
       "        vertical-align: top;\n",
       "    }\n",
       "\n",
       "    .dataframe thead th {\n",
       "        text-align: right;\n",
       "    }\n",
       "</style>\n",
       "<table border=\"1\" class=\"dataframe\">\n",
       "  <thead>\n",
       "    <tr style=\"text-align: right;\">\n",
       "      <th></th>\n",
       "      <th>Country</th>\n",
       "      <th>City</th>\n",
       "      <th>AQI Value</th>\n",
       "      <th>AQI Category</th>\n",
       "      <th>CO AQI Value</th>\n",
       "      <th>CO AQI Category</th>\n",
       "      <th>Ozone AQI Value</th>\n",
       "      <th>Ozone AQI Category</th>\n",
       "      <th>NO2 AQI Value</th>\n",
       "      <th>NO2 AQI Category</th>\n",
       "      <th>PM2.5 AQI Value</th>\n",
       "      <th>PM2.5 AQI Category</th>\n",
       "    </tr>\n",
       "  </thead>\n",
       "  <tbody>\n",
       "    <tr>\n",
       "      <th>0</th>\n",
       "      <td>Russian Federation</td>\n",
       "      <td>Praskoveya</td>\n",
       "      <td>51</td>\n",
       "      <td>Moderate</td>\n",
       "      <td>1</td>\n",
       "      <td>Good</td>\n",
       "      <td>36</td>\n",
       "      <td>Good</td>\n",
       "      <td>0</td>\n",
       "      <td>Good</td>\n",
       "      <td>51</td>\n",
       "      <td>Moderate</td>\n",
       "    </tr>\n",
       "    <tr>\n",
       "      <th>1</th>\n",
       "      <td>Brazil</td>\n",
       "      <td>Presidente Dutra</td>\n",
       "      <td>41</td>\n",
       "      <td>Good</td>\n",
       "      <td>1</td>\n",
       "      <td>Good</td>\n",
       "      <td>5</td>\n",
       "      <td>Good</td>\n",
       "      <td>1</td>\n",
       "      <td>Good</td>\n",
       "      <td>41</td>\n",
       "      <td>Good</td>\n",
       "    </tr>\n",
       "  </tbody>\n",
       "</table>\n",
       "</div>"
      ],
      "text/plain": [
       "              Country              City  AQI Value AQI Category  CO AQI Value   \n",
       "0  Russian Federation        Praskoveya         51     Moderate             1  \\\n",
       "1              Brazil  Presidente Dutra         41         Good             1   \n",
       "\n",
       "  CO AQI Category  Ozone AQI Value Ozone AQI Category  NO2 AQI Value   \n",
       "0            Good               36               Good              0  \\\n",
       "1            Good                5               Good              1   \n",
       "\n",
       "  NO2 AQI Category  PM2.5 AQI Value PM2.5 AQI Category  \n",
       "0             Good               51           Moderate  \n",
       "1             Good               41               Good  "
      ]
     },
     "execution_count": 115,
     "metadata": {},
     "output_type": "execute_result"
    }
   ],
   "source": [
    "df2.head(2)"
   ]
  },
  {
   "cell_type": "code",
   "execution_count": 2,
   "metadata": {},
   "outputs": [
    {
     "data": {
      "text/html": [
       "<div>\n",
       "<style scoped>\n",
       "    .dataframe tbody tr th:only-of-type {\n",
       "        vertical-align: middle;\n",
       "    }\n",
       "\n",
       "    .dataframe tbody tr th {\n",
       "        vertical-align: top;\n",
       "    }\n",
       "\n",
       "    .dataframe thead th {\n",
       "        text-align: right;\n",
       "    }\n",
       "</style>\n",
       "<table border=\"1\" class=\"dataframe\">\n",
       "  <thead>\n",
       "    <tr style=\"text-align: right;\">\n",
       "      <th></th>\n",
       "      <th>dt</th>\n",
       "      <th>AverageTemperature</th>\n",
       "      <th>AverageTemperatureUncertainty</th>\n",
       "      <th>City</th>\n",
       "      <th>Country</th>\n",
       "      <th>Latitude</th>\n",
       "      <th>Longitude</th>\n",
       "      <th>State</th>\n",
       "      <th>LandAverageTemperature</th>\n",
       "      <th>LandAverageTemperatureUncertainty</th>\n",
       "      <th>LandMaxTemperature</th>\n",
       "      <th>LandMaxTemperatureUncertainty</th>\n",
       "      <th>LandMinTemperature</th>\n",
       "      <th>LandMinTemperatureUncertainty</th>\n",
       "      <th>LandAndOceanAverageTemperature</th>\n",
       "      <th>LandAndOceanAverageTemperatureUncertainty</th>\n",
       "    </tr>\n",
       "  </thead>\n",
       "  <tbody>\n",
       "    <tr>\n",
       "      <th>0</th>\n",
       "      <td>1743-11-01</td>\n",
       "      <td>6.068</td>\n",
       "      <td>1.737</td>\n",
       "      <td>Århus</td>\n",
       "      <td>Denmark</td>\n",
       "      <td>57.05N</td>\n",
       "      <td>10.33E</td>\n",
       "      <td>NaN</td>\n",
       "      <td>NaN</td>\n",
       "      <td>NaN</td>\n",
       "      <td>NaN</td>\n",
       "      <td>NaN</td>\n",
       "      <td>NaN</td>\n",
       "      <td>NaN</td>\n",
       "      <td>NaN</td>\n",
       "      <td>NaN</td>\n",
       "    </tr>\n",
       "    <tr>\n",
       "      <th>1</th>\n",
       "      <td>1743-12-01</td>\n",
       "      <td>NaN</td>\n",
       "      <td>NaN</td>\n",
       "      <td>Århus</td>\n",
       "      <td>Denmark</td>\n",
       "      <td>57.05N</td>\n",
       "      <td>10.33E</td>\n",
       "      <td>NaN</td>\n",
       "      <td>NaN</td>\n",
       "      <td>NaN</td>\n",
       "      <td>NaN</td>\n",
       "      <td>NaN</td>\n",
       "      <td>NaN</td>\n",
       "      <td>NaN</td>\n",
       "      <td>NaN</td>\n",
       "      <td>NaN</td>\n",
       "    </tr>\n",
       "    <tr>\n",
       "      <th>2</th>\n",
       "      <td>1744-01-01</td>\n",
       "      <td>NaN</td>\n",
       "      <td>NaN</td>\n",
       "      <td>Århus</td>\n",
       "      <td>Denmark</td>\n",
       "      <td>57.05N</td>\n",
       "      <td>10.33E</td>\n",
       "      <td>NaN</td>\n",
       "      <td>NaN</td>\n",
       "      <td>NaN</td>\n",
       "      <td>NaN</td>\n",
       "      <td>NaN</td>\n",
       "      <td>NaN</td>\n",
       "      <td>NaN</td>\n",
       "      <td>NaN</td>\n",
       "      <td>NaN</td>\n",
       "    </tr>\n",
       "    <tr>\n",
       "      <th>3</th>\n",
       "      <td>1744-02-01</td>\n",
       "      <td>NaN</td>\n",
       "      <td>NaN</td>\n",
       "      <td>Århus</td>\n",
       "      <td>Denmark</td>\n",
       "      <td>57.05N</td>\n",
       "      <td>10.33E</td>\n",
       "      <td>NaN</td>\n",
       "      <td>NaN</td>\n",
       "      <td>NaN</td>\n",
       "      <td>NaN</td>\n",
       "      <td>NaN</td>\n",
       "      <td>NaN</td>\n",
       "      <td>NaN</td>\n",
       "      <td>NaN</td>\n",
       "      <td>NaN</td>\n",
       "    </tr>\n",
       "    <tr>\n",
       "      <th>4</th>\n",
       "      <td>1744-03-01</td>\n",
       "      <td>NaN</td>\n",
       "      <td>NaN</td>\n",
       "      <td>Århus</td>\n",
       "      <td>Denmark</td>\n",
       "      <td>57.05N</td>\n",
       "      <td>10.33E</td>\n",
       "      <td>NaN</td>\n",
       "      <td>NaN</td>\n",
       "      <td>NaN</td>\n",
       "      <td>NaN</td>\n",
       "      <td>NaN</td>\n",
       "      <td>NaN</td>\n",
       "      <td>NaN</td>\n",
       "      <td>NaN</td>\n",
       "      <td>NaN</td>\n",
       "    </tr>\n",
       "  </tbody>\n",
       "</table>\n",
       "</div>"
      ],
      "text/plain": [
       "           dt  AverageTemperature  AverageTemperatureUncertainty   City   \n",
       "0  1743-11-01               6.068                          1.737  Århus  \\\n",
       "1  1743-12-01                 NaN                            NaN  Århus   \n",
       "2  1744-01-01                 NaN                            NaN  Århus   \n",
       "3  1744-02-01                 NaN                            NaN  Århus   \n",
       "4  1744-03-01                 NaN                            NaN  Århus   \n",
       "\n",
       "   Country Latitude Longitude State  LandAverageTemperature   \n",
       "0  Denmark   57.05N    10.33E   NaN                     NaN  \\\n",
       "1  Denmark   57.05N    10.33E   NaN                     NaN   \n",
       "2  Denmark   57.05N    10.33E   NaN                     NaN   \n",
       "3  Denmark   57.05N    10.33E   NaN                     NaN   \n",
       "4  Denmark   57.05N    10.33E   NaN                     NaN   \n",
       "\n",
       "   LandAverageTemperatureUncertainty  LandMaxTemperature   \n",
       "0                                NaN                 NaN  \\\n",
       "1                                NaN                 NaN   \n",
       "2                                NaN                 NaN   \n",
       "3                                NaN                 NaN   \n",
       "4                                NaN                 NaN   \n",
       "\n",
       "   LandMaxTemperatureUncertainty  LandMinTemperature   \n",
       "0                            NaN                 NaN  \\\n",
       "1                            NaN                 NaN   \n",
       "2                            NaN                 NaN   \n",
       "3                            NaN                 NaN   \n",
       "4                            NaN                 NaN   \n",
       "\n",
       "   LandMinTemperatureUncertainty  LandAndOceanAverageTemperature   \n",
       "0                            NaN                             NaN  \\\n",
       "1                            NaN                             NaN   \n",
       "2                            NaN                             NaN   \n",
       "3                            NaN                             NaN   \n",
       "4                            NaN                             NaN   \n",
       "\n",
       "   LandAndOceanAverageTemperatureUncertainty  \n",
       "0                                        NaN  \n",
       "1                                        NaN  \n",
       "2                                        NaN  \n",
       "3                                        NaN  \n",
       "4                                        NaN  "
      ]
     },
     "execution_count": 2,
     "metadata": {},
     "output_type": "execute_result"
    }
   ],
   "source": [
    "df.head(5)"
   ]
  },
  {
   "cell_type": "code",
   "execution_count": 3,
   "metadata": {},
   "outputs": [
    {
     "name": "stdout",
     "output_type": "stream",
     "text": [
      "<class 'pandas.core.frame.DataFrame'>\n",
      "RangeIndex: 10064718 entries, 0 to 10064717\n",
      "Data columns (total 16 columns):\n",
      " #   Column                                     Dtype  \n",
      "---  ------                                     -----  \n",
      " 0   dt                                         object \n",
      " 1   AverageTemperature                         float64\n",
      " 2   AverageTemperatureUncertainty              float64\n",
      " 3   City                                       object \n",
      " 4   Country                                    object \n",
      " 5   Latitude                                   object \n",
      " 6   Longitude                                  object \n",
      " 7   State                                      object \n",
      " 8   LandAverageTemperature                     float64\n",
      " 9   LandAverageTemperatureUncertainty          float64\n",
      " 10  LandMaxTemperature                         float64\n",
      " 11  LandMaxTemperatureUncertainty              float64\n",
      " 12  LandMinTemperature                         float64\n",
      " 13  LandMinTemperatureUncertainty              float64\n",
      " 14  LandAndOceanAverageTemperature             float64\n",
      " 15  LandAndOceanAverageTemperatureUncertainty  float64\n",
      "dtypes: float64(10), object(6)\n",
      "memory usage: 1.2+ GB\n"
     ]
    }
   ],
   "source": [
    "df.info()"
   ]
  },
  {
   "cell_type": "code",
   "execution_count": 4,
   "metadata": {},
   "outputs": [
    {
     "data": {
      "text/plain": [
       "dt                                                  0\n",
       "AverageTemperature                             436623\n",
       "AverageTemperatureUncertainty                  435884\n",
       "City                                          1226329\n",
       "Country                                          3192\n",
       "Latitude                                      1226329\n",
       "Longitude                                     1226329\n",
       "State                                         9419043\n",
       "LandAverageTemperature                       10061538\n",
       "LandAverageTemperatureUncertainty            10061538\n",
       "LandMaxTemperature                           10062726\n",
       "LandMaxTemperatureUncertainty                10062726\n",
       "LandMinTemperature                           10062726\n",
       "LandMinTemperatureUncertainty                10062726\n",
       "LandAndOceanAverageTemperature               10062726\n",
       "LandAndOceanAverageTemperatureUncertainty    10062726\n",
       "dtype: int64"
      ]
     },
     "execution_count": 4,
     "metadata": {},
     "output_type": "execute_result"
    }
   ],
   "source": [
    "df.isnull().sum()"
   ]
  },
  {
   "cell_type": "code",
   "execution_count": 5,
   "metadata": {},
   "outputs": [
    {
     "data": {
      "text/plain": [
       "14.76"
      ]
     },
     "execution_count": 5,
     "metadata": {},
     "output_type": "execute_result"
    }
   ],
   "source": [
    "df.LandMaxTemperature.median()"
   ]
  },
  {
   "cell_type": "code",
   "execution_count": 6,
   "metadata": {},
   "outputs": [
    {
     "data": {
      "text/plain": [
       "0    26.544\n",
       "Name: AverageTemperature, dtype: float64"
      ]
     },
     "execution_count": 6,
     "metadata": {},
     "output_type": "execute_result"
    }
   ],
   "source": [
    "df.AverageTemperature.mode()"
   ]
  },
  {
   "cell_type": "code",
   "execution_count": 7,
   "metadata": {},
   "outputs": [
    {
     "data": {
      "text/plain": [
       "0.5920000000000001"
      ]
     },
     "execution_count": 7,
     "metadata": {},
     "output_type": "execute_result"
    }
   ],
   "source": [
    "df.AverageTemperatureUncertainty.median()"
   ]
  },
  {
   "cell_type": "code",
   "execution_count": 8,
   "metadata": {},
   "outputs": [
    {
     "data": {
      "text/plain": [
       "0    India\n",
       "Name: Country, dtype: object"
      ]
     },
     "execution_count": 8,
     "metadata": {},
     "output_type": "execute_result"
    }
   ],
   "source": [
    "df.Country.mode()"
   ]
  },
  {
   "cell_type": "code",
   "execution_count": 9,
   "metadata": {},
   "outputs": [
    {
     "data": {
      "text/plain": [
       "0              London\n",
       "1    Saint Petersburg\n",
       "Name: City, dtype: object"
      ]
     },
     "execution_count": 9,
     "metadata": {},
     "output_type": "execute_result"
    }
   ],
   "source": [
    "df.City.mode()"
   ]
  },
  {
   "cell_type": "code",
   "execution_count": 10,
   "metadata": {},
   "outputs": [
    {
     "data": {
      "text/plain": [
       "0            Adygey\n",
       "1           Alabama\n",
       "2      Arkhangel'Sk\n",
       "3          Belgorod\n",
       "4           Bryansk\n",
       "          ...      \n",
       "75          Vologda\n",
       "76         Voronezh\n",
       "77    West Virginia\n",
       "78        Wisconsin\n",
       "79       Yaroslavl'\n",
       "Name: State, Length: 80, dtype: object"
      ]
     },
     "execution_count": 10,
     "metadata": {},
     "output_type": "execute_result"
    }
   ],
   "source": [
    "df.State.mode()"
   ]
  },
  {
   "cell_type": "code",
   "execution_count": 11,
   "metadata": {},
   "outputs": [
    {
     "data": {
      "text/plain": [
       "dt                                                  0\n",
       "AverageTemperature                             436623\n",
       "AverageTemperatureUncertainty                  435884\n",
       "City                                          1226329\n",
       "Country                                          3192\n",
       "Latitude                                      1226329\n",
       "Longitude                                     1226329\n",
       "State                                         9419043\n",
       "LandAverageTemperature                       10061538\n",
       "LandAverageTemperatureUncertainty            10061538\n",
       "LandMaxTemperature                           10062726\n",
       "LandMaxTemperatureUncertainty                10062726\n",
       "LandMinTemperature                           10062726\n",
       "LandMinTemperatureUncertainty                10062726\n",
       "LandAndOceanAverageTemperature               10062726\n",
       "LandAndOceanAverageTemperatureUncertainty    10062726\n",
       "dtype: int64"
      ]
     },
     "execution_count": 11,
     "metadata": {},
     "output_type": "execute_result"
    }
   ],
   "source": [
    "df.isnull().sum()"
   ]
  },
  {
   "cell_type": "code",
   "execution_count": 23,
   "metadata": {},
   "outputs": [
    {
     "data": {
      "text/plain": [
       "0.122"
      ]
     },
     "execution_count": 23,
     "metadata": {},
     "output_type": "execute_result"
    }
   ],
   "source": [
    "df.LandAndOceanAverageTemperatureUncertainty.median()"
   ]
  },
  {
   "cell_type": "code",
   "execution_count": 22,
   "metadata": {},
   "outputs": [
    {
     "data": {
      "text/plain": [
       "15.251000000000001"
      ]
     },
     "execution_count": 22,
     "metadata": {},
     "output_type": "execute_result"
    }
   ],
   "source": [
    "df.LandAndOceanAverageTemperature.median()"
   ]
  },
  {
   "cell_type": "code",
   "execution_count": 21,
   "metadata": {},
   "outputs": [
    {
     "data": {
      "text/plain": [
       "0.279"
      ]
     },
     "execution_count": 21,
     "metadata": {},
     "output_type": "execute_result"
    }
   ],
   "source": [
    "df.LandMinTemperatureUncertainty.median()"
   ]
  },
  {
   "cell_type": "code",
   "execution_count": 20,
   "metadata": {},
   "outputs": [
    {
     "data": {
      "text/plain": [
       "0   -1.139\n",
       "1    7.818\n",
       "2    7.892\n",
       "3    8.161\n",
       "4    8.184\n",
       "Name: LandMinTemperature, dtype: float64"
      ]
     },
     "execution_count": 20,
     "metadata": {},
     "output_type": "execute_result"
    }
   ],
   "source": [
    "df.LandMinTemperature.mode()"
   ]
  },
  {
   "cell_type": "code",
   "execution_count": 19,
   "metadata": {},
   "outputs": [
    {
     "data": {
      "text/plain": [
       "0.252"
      ]
     },
     "execution_count": 19,
     "metadata": {},
     "output_type": "execute_result"
    }
   ],
   "source": [
    "df.LandMaxTemperatureUncertainty.median()"
   ]
  },
  {
   "cell_type": "code",
   "execution_count": 18,
   "metadata": {},
   "outputs": [
    {
     "data": {
      "text/plain": [
       "0      8.555\n",
       "1     10.781\n",
       "2     11.411\n",
       "3     17.196\n",
       "4     17.289\n",
       "5     17.713\n",
       "6     19.360\n",
       "7     19.628\n",
       "8     19.753\n",
       "9     19.850\n",
       "10    19.987\n",
       "11    20.037\n",
       "Name: LandMaxTemperature, dtype: float64"
      ]
     },
     "execution_count": 18,
     "metadata": {},
     "output_type": "execute_result"
    }
   ],
   "source": [
    "df.LandMaxTemperature.mode()"
   ]
  },
  {
   "cell_type": "code",
   "execution_count": 17,
   "metadata": {},
   "outputs": [
    {
     "data": {
      "text/plain": [
       "0.392"
      ]
     },
     "execution_count": 17,
     "metadata": {},
     "output_type": "execute_result"
    }
   ],
   "source": [
    "df.LandAverageTemperatureUncertainty.median()"
   ]
  },
  {
   "cell_type": "code",
   "execution_count": 13,
   "metadata": {},
   "outputs": [
    {
     "data": {
      "text/plain": [
       "0    36.17N\n",
       "Name: Latitude, dtype: object"
      ]
     },
     "execution_count": 13,
     "metadata": {},
     "output_type": "execute_result"
    }
   ],
   "source": [
    "df.Latitude.mode()"
   ]
  },
  {
   "cell_type": "code",
   "execution_count": 15,
   "metadata": {},
   "outputs": [
    {
     "data": {
      "text/plain": [
       "0    139.23E\n",
       "Name: Longitude, dtype: object"
      ]
     },
     "execution_count": 15,
     "metadata": {},
     "output_type": "execute_result"
    }
   ],
   "source": [
    "df.Longitude.mode()"
   ]
  },
  {
   "cell_type": "code",
   "execution_count": 16,
   "metadata": {},
   "outputs": [
    {
     "data": {
      "text/plain": [
       "0    13.293\n",
       "1    13.765\n",
       "Name: LandAverageTemperature, dtype: float64"
      ]
     },
     "execution_count": 16,
     "metadata": {},
     "output_type": "execute_result"
    }
   ],
   "source": [
    "df.LandAverageTemperature.mode()"
   ]
  },
  {
   "cell_type": "code",
   "execution_count": 12,
   "metadata": {},
   "outputs": [
    {
     "data": {
      "text/plain": [
       "Index(['dt', 'AverageTemperature', 'AverageTemperatureUncertainty', 'City',\n",
       "       'Country', 'Latitude', 'Longitude', 'State', 'LandAverageTemperature',\n",
       "       'LandAverageTemperatureUncertainty', 'LandMaxTemperature',\n",
       "       'LandMaxTemperatureUncertainty', 'LandMinTemperature',\n",
       "       'LandMinTemperatureUncertainty', 'LandAndOceanAverageTemperature',\n",
       "       'LandAndOceanAverageTemperatureUncertainty'],\n",
       "      dtype='object')"
      ]
     },
     "execution_count": 12,
     "metadata": {},
     "output_type": "execute_result"
    }
   ],
   "source": [
    "df.columns"
   ]
  },
  {
   "cell_type": "code",
   "execution_count": 24,
   "metadata": {},
   "outputs": [],
   "source": [
    "df['Country'].fillna('Unknown', inplace=True)"
   ]
  },
  {
   "cell_type": "code",
   "execution_count": 31,
   "metadata": {},
   "outputs": [],
   "source": [
    "from sklearn.impute import SimpleImputer\n",
    "columns_to_impute = [\n",
    "    'AverageTemperatureUncertainty',\n",
    "    'LandAndOceanAverageTemperature',\n",
    "    'LandAndOceanAverageTemperatureUncertainty',\n",
    "    'AverageTemperatureUncertainty',\n",
    "    'LandAverageTemperature',\n",
    "    'LandAverageTemperatureUncertainty',\n",
    "    'LandMaxTemperatureUncertainty',\n",
    "    'LandMinTemperatureUncertainty'\n",
    "]\n",
    "imputer = SimpleImputer(strategy='median')\n",
    "\n",
    "df[columns_to_impute] = imputer.fit_transform(df[columns_to_impute])"
   ]
  },
  {
   "cell_type": "code",
   "execution_count": 32,
   "metadata": {},
   "outputs": [],
   "source": [
    "from sklearn.impute import SimpleImputer\n",
    "columns_to_impute2 = [\n",
    "    'AverageTemperature',\n",
    "    'LandAndOceanAverageTemperature',\n",
    "    'AverageTemperature',\n",
    "    'LandAverageTemperature',\n",
    "    'LandMaxTemperature',\n",
    "    'LandMinTemperature',\n",
    "    'Latitude',\n",
    "    'Longitude'\n",
    "]\n",
    "imputer = SimpleImputer(strategy='most_frequent')\n",
    "\n",
    "df[columns_to_impute2] = imputer.fit_transform(df[columns_to_impute2])"
   ]
  },
  {
   "cell_type": "code",
   "execution_count": 34,
   "metadata": {},
   "outputs": [],
   "source": [
    "df['Country'].fillna('Unknown', inplace=True)"
   ]
  },
  {
   "cell_type": "code",
   "execution_count": 35,
   "metadata": {},
   "outputs": [],
   "source": [
    "df['City'].fillna('Unknown', inplace=True)"
   ]
  },
  {
   "cell_type": "code",
   "execution_count": 36,
   "metadata": {},
   "outputs": [],
   "source": [
    "df['State'].fillna('Unknown', inplace=True)"
   ]
  },
  {
   "cell_type": "code",
   "execution_count": 37,
   "metadata": {},
   "outputs": [
    {
     "data": {
      "text/html": [
       "<div>\n",
       "<style scoped>\n",
       "    .dataframe tbody tr th:only-of-type {\n",
       "        vertical-align: middle;\n",
       "    }\n",
       "\n",
       "    .dataframe tbody tr th {\n",
       "        vertical-align: top;\n",
       "    }\n",
       "\n",
       "    .dataframe thead th {\n",
       "        text-align: right;\n",
       "    }\n",
       "</style>\n",
       "<table border=\"1\" class=\"dataframe\">\n",
       "  <thead>\n",
       "    <tr style=\"text-align: right;\">\n",
       "      <th></th>\n",
       "      <th>dt</th>\n",
       "      <th>AverageTemperature</th>\n",
       "      <th>AverageTemperatureUncertainty</th>\n",
       "      <th>City</th>\n",
       "      <th>Country</th>\n",
       "      <th>Latitude</th>\n",
       "      <th>Longitude</th>\n",
       "      <th>State</th>\n",
       "      <th>LandAverageTemperature</th>\n",
       "      <th>LandAverageTemperatureUncertainty</th>\n",
       "      <th>LandMaxTemperature</th>\n",
       "      <th>LandMaxTemperatureUncertainty</th>\n",
       "      <th>LandMinTemperature</th>\n",
       "      <th>LandMinTemperatureUncertainty</th>\n",
       "      <th>LandAndOceanAverageTemperature</th>\n",
       "      <th>LandAndOceanAverageTemperatureUncertainty</th>\n",
       "    </tr>\n",
       "  </thead>\n",
       "  <tbody>\n",
       "    <tr>\n",
       "      <th>0</th>\n",
       "      <td>1743-11-01</td>\n",
       "      <td>6.068</td>\n",
       "      <td>1.737</td>\n",
       "      <td>Århus</td>\n",
       "      <td>Denmark</td>\n",
       "      <td>57.05N</td>\n",
       "      <td>10.33E</td>\n",
       "      <td>Unknown</td>\n",
       "      <td>8.6105</td>\n",
       "      <td>0.392</td>\n",
       "      <td>8.555</td>\n",
       "      <td>0.252</td>\n",
       "      <td>-1.139</td>\n",
       "      <td>0.279</td>\n",
       "      <td>15.251</td>\n",
       "      <td>0.122</td>\n",
       "    </tr>\n",
       "  </tbody>\n",
       "</table>\n",
       "</div>"
      ],
      "text/plain": [
       "           dt AverageTemperature  AverageTemperatureUncertainty   City   \n",
       "0  1743-11-01              6.068                          1.737  Århus  \\\n",
       "\n",
       "   Country Latitude Longitude    State LandAverageTemperature   \n",
       "0  Denmark   57.05N    10.33E  Unknown                 8.6105  \\\n",
       "\n",
       "   LandAverageTemperatureUncertainty LandMaxTemperature   \n",
       "0                              0.392              8.555  \\\n",
       "\n",
       "   LandMaxTemperatureUncertainty LandMinTemperature   \n",
       "0                          0.252             -1.139  \\\n",
       "\n",
       "   LandMinTemperatureUncertainty LandAndOceanAverageTemperature   \n",
       "0                          0.279                         15.251  \\\n",
       "\n",
       "   LandAndOceanAverageTemperatureUncertainty  \n",
       "0                                      0.122  "
      ]
     },
     "execution_count": 37,
     "metadata": {},
     "output_type": "execute_result"
    }
   ],
   "source": [
    "df.head(1)"
   ]
  },
  {
   "cell_type": "code",
   "execution_count": 38,
   "metadata": {},
   "outputs": [
    {
     "data": {
      "text/plain": [
       "dt                                           0\n",
       "AverageTemperature                           0\n",
       "AverageTemperatureUncertainty                0\n",
       "City                                         0\n",
       "Country                                      0\n",
       "Latitude                                     0\n",
       "Longitude                                    0\n",
       "State                                        0\n",
       "LandAverageTemperature                       0\n",
       "LandAverageTemperatureUncertainty            0\n",
       "LandMaxTemperature                           0\n",
       "LandMaxTemperatureUncertainty                0\n",
       "LandMinTemperature                           0\n",
       "LandMinTemperatureUncertainty                0\n",
       "LandAndOceanAverageTemperature               0\n",
       "LandAndOceanAverageTemperatureUncertainty    0\n",
       "dtype: int64"
      ]
     },
     "execution_count": 38,
     "metadata": {},
     "output_type": "execute_result"
    }
   ],
   "source": [
    "df.isnull().sum()"
   ]
  },
  {
   "cell_type": "code",
   "execution_count": 39,
   "metadata": {},
   "outputs": [
    {
     "data": {
      "text/plain": [
       "dt                                            object\n",
       "AverageTemperature                            object\n",
       "AverageTemperatureUncertainty                float64\n",
       "City                                          object\n",
       "Country                                       object\n",
       "Latitude                                      object\n",
       "Longitude                                     object\n",
       "State                                         object\n",
       "LandAverageTemperature                        object\n",
       "LandAverageTemperatureUncertainty            float64\n",
       "LandMaxTemperature                            object\n",
       "LandMaxTemperatureUncertainty                float64\n",
       "LandMinTemperature                            object\n",
       "LandMinTemperatureUncertainty                float64\n",
       "LandAndOceanAverageTemperature                object\n",
       "LandAndOceanAverageTemperatureUncertainty    float64\n",
       "dtype: object"
      ]
     },
     "execution_count": 39,
     "metadata": {},
     "output_type": "execute_result"
    }
   ],
   "source": [
    "df.dtypes"
   ]
  },
  {
   "cell_type": "code",
   "execution_count": 58,
   "metadata": {},
   "outputs": [],
   "source": [
    "lower_bound = 10\n",
    "upper_bound = 40\n",
    "df['LandAndOceanAverageTemperature'] = df['LandAndOceanAverageTemperature'].clip(lower=lower_bound, upper=upper_bound)"
   ]
  },
  {
   "cell_type": "code",
   "execution_count": 57,
   "metadata": {},
   "outputs": [],
   "source": [
    "lower_bound = 10\n",
    "upper_bound = 40\n",
    "df['LandAverageTemperature'] = df['LandAverageTemperature'].clip(lower=lower_bound, upper=upper_bound)"
   ]
  },
  {
   "cell_type": "code",
   "execution_count": 56,
   "metadata": {},
   "outputs": [],
   "source": [
    "lower_bound = -10\n",
    "upper_bound = 10\n",
    "df['LandMinTemperature'] = df['LandMinTemperature'].clip(lower=lower_bound, upper=upper_bound)"
   ]
  },
  {
   "cell_type": "code",
   "execution_count": 85,
   "metadata": {},
   "outputs": [],
   "source": [
    "lower_bound = 0\n",
    "upper_bound = 50\n",
    "df['LandMaxTemperature'] = df['LandMaxTemperature'].clip(lower=lower_bound, upper=upper_bound)"
   ]
  },
  {
   "cell_type": "code",
   "execution_count": 86,
   "metadata": {},
   "outputs": [],
   "source": [
    "Q1 = df['LandAndOceanAverageTemperature'].quantile(0.25)\n",
    "Q3 = df['LandAndOceanAverageTemperature'].quantile(0.75)\n",
    "IQR = Q3 - Q1\n",
    "\n",
    "lower_bound = Q1 - 1.5 * IQR\n",
    "upper_bound = Q3 + 1.5 * IQR\n",
    "\n",
    "outliers = df[(df['LandAndOceanAverageTemperature'] < lower_bound) | (df['LandAndOceanAverageTemperature'] > upper_bound)]"
   ]
  },
  {
   "cell_type": "code",
   "execution_count": 87,
   "metadata": {},
   "outputs": [
    {
     "data": {
      "text/plain": [
       "dt          AverageTemperature  AverageTemperatureUncertainty  LandAverageTemperature  LandAverageTemperatureUncertainty  LandMaxTemperature  LandMaxTemperatureUncertainty  LandMinTemperature  LandMinTemperatureUncertainty  LandAndOceanAverageTemperature  LandAndOceanAverageTemperatureUncertainty  CombinedLocation               Coordinates    \n",
       "1900-12-01   21.222             1.052                          10.0                    0.392                              10.0                0.252                          -1.139              0.279                          15.251                          0.122                                      Durban, South Africa, Unknown  29.74S, 31.38E     2\n",
       "1870-07-01   28.213             1.470                          10.0                    0.392                              10.0                0.252                          -1.139              0.279                          15.251                          0.122                                      Nanjing, China, Unknown        31.35N, 118.74E    2\n",
       "1796-04-01   28.015             1.875                          10.0                    0.392                              10.0                0.252                          -1.139              0.279                          15.251                          0.122                                      Dhaka, Bangladesh, Unknown     23.31N, 90.00E     2\n",
       "1858-01-01  -3.694              1.901                          10.0                    0.392                              10.0                0.252                          -1.139              0.279                          15.251                          0.122                                      Tianjin, China, Unknown        39.38N, 116.53E    2\n",
       "1819-11-01   18.559             0.592                          10.0                    0.392                              10.0                0.252                          -1.139              0.279                          15.251                          0.122                                      Baghdad, Iraq, Unknown         32.95N, 45.00E     2\n",
       "                                                                                                                                                                                                                                                                                                                                                            ..\n",
       "1877-11-01   7.826              1.467                          10.0                    0.392                              10.0                0.252                          -1.139              0.279                          15.251                          0.122                                      Kumagaya, Japan, Unknown       36.17N, 139.23E    1\n",
       "                                                                                                                                                                                                                                                                                                           Machida, Japan, Unknown        36.17N, 139.23E    1\n",
       "                                                                                                                                                                                                                                                                                                           Matsudo, Japan, Unknown        36.17N, 139.23E    1\n",
       "                                                                                                                                                                                                                                                                                                           Misato, Japan, Unknown         36.17N, 139.23E    1\n",
       "2013-09-01   30.951             1.084                          10.0                    0.392                              10.0                0.252                          -1.139              0.279                          15.251                          0.122                                      La Paz, Mexico, Unknown        24.92N, 109.95W    1\n",
       "Name: count, Length: 9840086, dtype: int64"
      ]
     },
     "execution_count": 87,
     "metadata": {},
     "output_type": "execute_result"
    }
   ],
   "source": [
    "df.value_counts()"
   ]
  },
  {
   "cell_type": "code",
   "execution_count": 88,
   "metadata": {},
   "outputs": [
    {
     "data": {
      "text/plain": [
       "Series([], Name: count, dtype: int64)"
      ]
     },
     "execution_count": 88,
     "metadata": {},
     "output_type": "execute_result"
    }
   ],
   "source": [
    "outliers.value_counts()"
   ]
  },
  {
   "cell_type": "code",
   "execution_count": 89,
   "metadata": {},
   "outputs": [],
   "source": [
    "df = df[~df.index.isin(outliers.index)]"
   ]
  },
  {
   "cell_type": "code",
   "execution_count": null,
   "metadata": {},
   "outputs": [],
   "source": [
    "df['CombinedLocation'] = df[['City', 'Country', 'State']].apply(lambda x: ', '.join(x.dropna().astype(str)), axis=1)"
   ]
  },
  {
   "cell_type": "code",
   "execution_count": null,
   "metadata": {},
   "outputs": [],
   "source": [
    "df['Coordinates'] = df[['Latitude','Longitude']].apply(lambda x: ', '.join(x.dropna().astype(str)), axis=1)"
   ]
  },
  {
   "cell_type": "code",
   "execution_count": null,
   "metadata": {},
   "outputs": [],
   "source": [
    "columns_to_drop = ['Country', 'City', 'State', 'Latitude', 'Longitude']\n",
    "df.drop(columns=columns_to_drop, inplace=True)"
   ]
  },
  {
   "cell_type": "code",
   "execution_count": 94,
   "metadata": {},
   "outputs": [
    {
     "data": {
      "text/html": [
       "<div>\n",
       "<style scoped>\n",
       "    .dataframe tbody tr th:only-of-type {\n",
       "        vertical-align: middle;\n",
       "    }\n",
       "\n",
       "    .dataframe tbody tr th {\n",
       "        vertical-align: top;\n",
       "    }\n",
       "\n",
       "    .dataframe thead th {\n",
       "        text-align: right;\n",
       "    }\n",
       "</style>\n",
       "<table border=\"1\" class=\"dataframe\">\n",
       "  <thead>\n",
       "    <tr style=\"text-align: right;\">\n",
       "      <th></th>\n",
       "      <th>dt</th>\n",
       "      <th>AverageTemperature</th>\n",
       "      <th>AverageTemperatureUncertainty</th>\n",
       "      <th>LandAverageTemperature</th>\n",
       "      <th>LandAverageTemperatureUncertainty</th>\n",
       "      <th>LandMaxTemperature</th>\n",
       "      <th>LandMaxTemperatureUncertainty</th>\n",
       "      <th>LandMinTemperature</th>\n",
       "      <th>LandMinTemperatureUncertainty</th>\n",
       "      <th>LandAndOceanAverageTemperature</th>\n",
       "      <th>LandAndOceanAverageTemperatureUncertainty</th>\n",
       "      <th>CombinedLocation</th>\n",
       "      <th>Coordinates</th>\n",
       "    </tr>\n",
       "  </thead>\n",
       "  <tbody>\n",
       "    <tr>\n",
       "      <th>0</th>\n",
       "      <td>1743-11-01</td>\n",
       "      <td>6.068</td>\n",
       "      <td>1.737</td>\n",
       "      <td>10</td>\n",
       "      <td>0.392</td>\n",
       "      <td>10.0</td>\n",
       "      <td>0.252</td>\n",
       "      <td>-1.139</td>\n",
       "      <td>0.279</td>\n",
       "      <td>15.251</td>\n",
       "      <td>0.122</td>\n",
       "      <td>Århus, Denmark, Unknown</td>\n",
       "      <td>57.05N, 10.33E</td>\n",
       "    </tr>\n",
       "    <tr>\n",
       "      <th>1</th>\n",
       "      <td>1743-12-01</td>\n",
       "      <td>18.559</td>\n",
       "      <td>0.592</td>\n",
       "      <td>10</td>\n",
       "      <td>0.392</td>\n",
       "      <td>10.0</td>\n",
       "      <td>0.252</td>\n",
       "      <td>-1.139</td>\n",
       "      <td>0.279</td>\n",
       "      <td>15.251</td>\n",
       "      <td>0.122</td>\n",
       "      <td>Århus, Denmark, Unknown</td>\n",
       "      <td>57.05N, 10.33E</td>\n",
       "    </tr>\n",
       "    <tr>\n",
       "      <th>2</th>\n",
       "      <td>1744-01-01</td>\n",
       "      <td>18.559</td>\n",
       "      <td>0.592</td>\n",
       "      <td>10</td>\n",
       "      <td>0.392</td>\n",
       "      <td>10.0</td>\n",
       "      <td>0.252</td>\n",
       "      <td>-1.139</td>\n",
       "      <td>0.279</td>\n",
       "      <td>15.251</td>\n",
       "      <td>0.122</td>\n",
       "      <td>Århus, Denmark, Unknown</td>\n",
       "      <td>57.05N, 10.33E</td>\n",
       "    </tr>\n",
       "    <tr>\n",
       "      <th>3</th>\n",
       "      <td>1744-02-01</td>\n",
       "      <td>18.559</td>\n",
       "      <td>0.592</td>\n",
       "      <td>10</td>\n",
       "      <td>0.392</td>\n",
       "      <td>10.0</td>\n",
       "      <td>0.252</td>\n",
       "      <td>-1.139</td>\n",
       "      <td>0.279</td>\n",
       "      <td>15.251</td>\n",
       "      <td>0.122</td>\n",
       "      <td>Århus, Denmark, Unknown</td>\n",
       "      <td>57.05N, 10.33E</td>\n",
       "    </tr>\n",
       "    <tr>\n",
       "      <th>4</th>\n",
       "      <td>1744-03-01</td>\n",
       "      <td>18.559</td>\n",
       "      <td>0.592</td>\n",
       "      <td>10</td>\n",
       "      <td>0.392</td>\n",
       "      <td>10.0</td>\n",
       "      <td>0.252</td>\n",
       "      <td>-1.139</td>\n",
       "      <td>0.279</td>\n",
       "      <td>15.251</td>\n",
       "      <td>0.122</td>\n",
       "      <td>Århus, Denmark, Unknown</td>\n",
       "      <td>57.05N, 10.33E</td>\n",
       "    </tr>\n",
       "  </tbody>\n",
       "</table>\n",
       "</div>"
      ],
      "text/plain": [
       "           dt AverageTemperature  AverageTemperatureUncertainty   \n",
       "0  1743-11-01              6.068                          1.737  \\\n",
       "1  1743-12-01             18.559                          0.592   \n",
       "2  1744-01-01             18.559                          0.592   \n",
       "3  1744-02-01             18.559                          0.592   \n",
       "4  1744-03-01             18.559                          0.592   \n",
       "\n",
       "  LandAverageTemperature  LandAverageTemperatureUncertainty   \n",
       "0                     10                              0.392  \\\n",
       "1                     10                              0.392   \n",
       "2                     10                              0.392   \n",
       "3                     10                              0.392   \n",
       "4                     10                              0.392   \n",
       "\n",
       "   LandMaxTemperature  LandMaxTemperatureUncertainty LandMinTemperature   \n",
       "0                10.0                          0.252             -1.139  \\\n",
       "1                10.0                          0.252             -1.139   \n",
       "2                10.0                          0.252             -1.139   \n",
       "3                10.0                          0.252             -1.139   \n",
       "4                10.0                          0.252             -1.139   \n",
       "\n",
       "   LandMinTemperatureUncertainty LandAndOceanAverageTemperature   \n",
       "0                          0.279                         15.251  \\\n",
       "1                          0.279                         15.251   \n",
       "2                          0.279                         15.251   \n",
       "3                          0.279                         15.251   \n",
       "4                          0.279                         15.251   \n",
       "\n",
       "   LandAndOceanAverageTemperatureUncertainty         CombinedLocation   \n",
       "0                                      0.122  Århus, Denmark, Unknown  \\\n",
       "1                                      0.122  Århus, Denmark, Unknown   \n",
       "2                                      0.122  Århus, Denmark, Unknown   \n",
       "3                                      0.122  Århus, Denmark, Unknown   \n",
       "4                                      0.122  Århus, Denmark, Unknown   \n",
       "\n",
       "      Coordinates  \n",
       "0  57.05N, 10.33E  \n",
       "1  57.05N, 10.33E  \n",
       "2  57.05N, 10.33E  \n",
       "3  57.05N, 10.33E  \n",
       "4  57.05N, 10.33E  "
      ]
     },
     "execution_count": 94,
     "metadata": {},
     "output_type": "execute_result"
    }
   ],
   "source": [
    "df.head(5)"
   ]
  },
  {
   "cell_type": "code",
   "execution_count": 95,
   "metadata": {},
   "outputs": [
    {
     "name": "stdout",
     "output_type": "stream",
     "text": [
      "X_train shape: (8050180, 11)\n",
      "X_test shape: (2012546, 11)\n",
      "y_train shape: (8050180,)\n",
      "y_test shape: (2012546,)\n"
     ]
    }
   ],
   "source": [
    "from sklearn.model_selection import train_test_split\n",
    "\n",
    "X = df.drop(columns=['LandMaxTemperature', 'dt'])  # Features\n",
    "y = df['LandMaxTemperature']  # Target variable\n",
    "\n",
    "X_train, X_test, y_train, y_test = train_test_split(X, y, test_size=0.2, random_state=42)\n",
    "\n",
    "print(\"X_train shape:\", X_train.shape)\n",
    "print(\"X_test shape:\", X_test.shape)\n",
    "print(\"y_train shape:\", y_train.shape)\n",
    "print(\"y_test shape:\", y_test.shape)"
   ]
  },
  {
   "cell_type": "code",
   "execution_count": 96,
   "metadata": {},
   "outputs": [
    {
     "name": "stdout",
     "output_type": "stream",
     "text": [
      "dt                                            object\n",
      "AverageTemperature                            object\n",
      "AverageTemperatureUncertainty                float64\n",
      "LandAverageTemperature                        object\n",
      "LandAverageTemperatureUncertainty            float64\n",
      "LandMaxTemperature                           float64\n",
      "LandMaxTemperatureUncertainty                float64\n",
      "LandMinTemperature                            object\n",
      "LandMinTemperatureUncertainty                float64\n",
      "LandAndOceanAverageTemperature                object\n",
      "LandAndOceanAverageTemperatureUncertainty    float64\n",
      "CombinedLocation                              object\n",
      "Coordinates                                   object\n",
      "dtype: object\n"
     ]
    }
   ],
   "source": [
    "df['LandMaxTemperature'] = df['LandMaxTemperature'].astype(float)\n",
    "print(df.dtypes)"
   ]
  },
  {
   "cell_type": "code",
   "execution_count": 97,
   "metadata": {},
   "outputs": [
    {
     "name": "stdout",
     "output_type": "stream",
     "text": [
      "R-squared score: 1.0\n"
     ]
    }
   ],
   "source": [
    "from sklearn.linear_model import LinearRegression\n",
    "from sklearn.model_selection import train_test_split\n",
    "\n",
    "numeric_columns = df.select_dtypes(include=['float64', 'int64']).columns\n",
    "\n",
    "numeric_df = df[numeric_columns]\n",
    "\n",
    "X = numeric_df.drop(columns='LandMaxTemperature')  # Features (excluding the target variable)\n",
    "y = numeric_df['LandMaxTemperature']  # Target variable\n",
    "\n",
    "X_train, X_test, y_train, y_test = train_test_split(X, y, test_size=0.2, random_state=42)\n",
    "\n",
    "linear_reg_model = LinearRegression()\n",
    "linear_reg_model.fit(X_train, y_train)\n",
    "\n",
    "y_pred = linear_reg_model.predict(X_test)\n",
    "\n",
    "from sklearn.metrics import r2_score\n",
    "r2 = r2_score(y_test, y_pred)\n",
    "print(\"R-squared score:\", r2)"
   ]
  },
  {
   "cell_type": "code",
   "execution_count": 98,
   "metadata": {},
   "outputs": [
    {
     "name": "stdout",
     "output_type": "stream",
     "text": [
      "Mean Squared Error (MSE): 0.0\n",
      "Root Mean Squared Error (RMSE): 0.0\n",
      "Mean Absolute Error (MAE): 0.0\n"
     ]
    }
   ],
   "source": [
    "from sklearn.metrics import mean_squared_error, mean_absolute_error\n",
    "\n",
    "mse = mean_squared_error(y_test, y_pred)\n",
    "print(\"Mean Squared Error (MSE):\", mse)\n",
    "\n",
    "rmse = np.sqrt(mse)\n",
    "print(\"Root Mean Squared Error (RMSE):\", rmse)\n",
    "\n",
    "mae = mean_absolute_error(y_test, y_pred)\n",
    "print(\"Mean Absolute Error (MAE):\", mae)"
   ]
  },
  {
   "cell_type": "code",
   "execution_count": 99,
   "metadata": {},
   "outputs": [
    {
     "name": "stdout",
     "output_type": "stream",
     "text": [
      "Accuracy-like metric (within 1.0 degrees): 100.00%\n"
     ]
    }
   ],
   "source": [
    "tolerance = 1.0\n",
    "\n",
    "within_tolerance = np.sum(abs(y_test - y_pred) <= tolerance)\n",
    "total_samples = len(y_test)\n",
    "accuracy_like_metric = (within_tolerance / total_samples) * 100\n",
    "\n",
    "print(f\"Accuracy-like metric (within {tolerance} degrees): {accuracy_like_metric:.2f}%\")"
   ]
  },
  {
   "cell_type": "code",
   "execution_count": 100,
   "metadata": {},
   "outputs": [
    {
     "data": {
      "text/plain": [
       "Index(['dt', 'AverageTemperature', 'AverageTemperatureUncertainty',\n",
       "       'LandAverageTemperature', 'LandAverageTemperatureUncertainty',\n",
       "       'LandMaxTemperature', 'LandMaxTemperatureUncertainty',\n",
       "       'LandMinTemperature', 'LandMinTemperatureUncertainty',\n",
       "       'LandAndOceanAverageTemperature',\n",
       "       'LandAndOceanAverageTemperatureUncertainty', 'CombinedLocation',\n",
       "       'Coordinates'],\n",
       "      dtype='object')"
      ]
     },
     "execution_count": 100,
     "metadata": {},
     "output_type": "execute_result"
    }
   ],
   "source": [
    "df.columns"
   ]
  },
  {
   "cell_type": "code",
   "execution_count": 101,
   "metadata": {},
   "outputs": [
    {
     "name": "stdout",
     "output_type": "stream",
     "text": [
      "Predicted LandMaxTemperature:\n",
      "[10. 10. 10. ... 10. 10. 10.]\n"
     ]
    }
   ],
   "source": [
    "selected_columns = ['AverageTemperature', 'AverageTemperatureUncertainty', \n",
    "                    'LandAverageTemperature', 'LandAverageTemperatureUncertainty',\n",
    "                    'LandAndOceanAverageTemperature']\n",
    "\n",
    "input_data = df[selected_columns]\n",
    "\n",
    "predicted_land_max_temperature = linear_reg_model.predict(input_data)\n",
    "\n",
    "print(\"Predicted LandMaxTemperature:\")\n",
    "print(predicted_land_max_temperature)"
   ]
  },
  {
   "cell_type": "code",
   "execution_count": 102,
   "metadata": {},
   "outputs": [
    {
     "name": "stdout",
     "output_type": "stream",
     "text": [
      "Predicted LandMaxTemperature:\n",
      "[10.]\n"
     ]
    }
   ],
   "source": [
    "def predict_land_max_temp(input_data):\n",
    "    predicted_land_max_temperature = linear_reg_model.predict(input_data)\n",
    "    return predicted_land_max_temperature\n",
    "\n",
    "custom_input_data = [[20.0, 0.2, 22.0, 0.3, 25.0]]\n",
    "predicted_temp = predict_land_max_temp(custom_input_data)\n",
    "\n",
    "print(\"Predicted LandMaxTemperature:\")\n",
    "print(predicted_temp)"
   ]
  }
 ],
 "metadata": {
  "kernelspec": {
   "display_name": "Python 3",
   "language": "python",
   "name": "python3"
  },
  "language_info": {
   "codemirror_mode": {
    "name": "ipython",
    "version": 3
   },
   "file_extension": ".py",
   "mimetype": "text/x-python",
   "name": "python",
   "nbconvert_exporter": "python",
   "pygments_lexer": "ipython3",
   "version": "3.10.4"
  }
 },
 "nbformat": 4,
 "nbformat_minor": 2
}
